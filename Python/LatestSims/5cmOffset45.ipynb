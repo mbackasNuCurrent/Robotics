{
 "cells": [
  {
   "cell_type": "code",
   "execution_count": 1,
   "metadata": {},
   "outputs": [],
   "source": [
    "from ece470_lib import *\n",
    "from time import time\n",
    "from IPython.display import clear_output\n",
    "inTOmm = 25.4;\n",
    "\n",
    "# Joint Axes Orientations\n",
    "a0 = [0,0,1];\n",
    "a1 = [0,-1,0];\n",
    "a2 = [0,-1,0];\n",
    "a3 = [0,-1,0];\n",
    "a4 = [1,0,0];\n",
    "a5 = [1,0,0];\n",
    "\n",
    "# Joint Axes Positions (Ant point on axis)\n",
    "q0 = [0,0,0];\n",
    "q1 = [3.76*inTOmm,0,8.11*inTOmm];\n",
    "q2 = [11.76*inTOmm,0,8.11*inTOmm];\n",
    "q3 = [17.76*inTOmm,0,8.11*inTOmm];\n",
    "q4 = [19.48*inTOmm,0,8.11*inTOmm];\n",
    "q5 = [19.48*inTOmm,50,8.11*inTOmm];\n",
    "\n",
    "# Convert to Screws (rotation about an axis+linear motions along screw)\n",
    "s0 = toScrew(a0,q0);\n",
    "s1 = toScrew(a1,q1);\n",
    "s2 = toScrew(a2,q2);\n",
    "s3 = toScrew(a3,q3);\n",
    "s4 = toScrew(a4,q4);\n",
    "s5 = toScrew(a5,q5);\n",
    "\n",
    "# Assemble Screw Bank\n",
    "S=[s0,s1,s2,s3,s4,s5]\n",
    "\n",
    "\n",
    "#       [xToolInSpace, yToolInSpace, zToolInSpace]\n",
    "toolRot = np.array([[ 0,0,1],# tool frame axes expressed in space frame coordiantes\n",
    "                    [ 0,1,0],\n",
    "                    [-1,0,0]]);\n",
    "\n",
    "toolPos = np.array([[19.48*inTOmm+400 , 50 , 8.11*inTOmm]]).transpose(); #position of tool end in space frame\n",
    "M=toPose(toolRot,toolPos); # Assemble Pose Matrix of Tool in space frame coordiantes\n",
    "\n",
    "# define goal Pose\n",
    "goalRot = np.eye(3);\n",
    "X=np.arange(-20,500,10);\n",
    "# Y=X;\n",
    "Y=np.array([0])\n",
    "Z=np.arange(400,1020,10)\n"
   ]
  },
  {
   "cell_type": "code",
   "execution_count": 2,
   "metadata": {},
   "outputs": [],
   "source": [
    "# print(X.size,Y.size,Z.size)"
   ]
  },
  {
   "cell_type": "code",
   "execution_count": 3,
   "metadata": {},
   "outputs": [],
   "source": [
    "# # goalRot = np.eye(3);\n",
    "# idx=866\n",
    "# goalPos = np.array([[xs[idx]],[0],[zs[idx]]]);\n",
    "# goalT = toPose(goalRot,goalPos);\n",
    "# thetaMat,norm = findIK(goalT, S,M,max_iter=100);\n",
    "# print(thetaMat)\n",
    "# # out = evalT(S,[0,20/180*np.pi,130/180*np.pi,-60/180*np.pi,0],M)\n",
    "# out = evalT(S,thetaMat[0],M)\n",
    "\n",
    "# rot,pos = fromPose(out)\n",
    "# print(rot)\n",
    "# print(pos)\n",
    "# print(xs[idx],zs[idx])"
   ]
  },
  {
   "cell_type": "code",
   "execution_count": 4,
   "metadata": {},
   "outputs": [],
   "source": [
    "# i=np.where(X==440)[0][0]\n",
    "# j=0\n",
    "# k=np.where(Z==840)[0][0]\n",
    "# print(X[i],Y[j],Z[k])\n",
    "# print(thetaMap[i][j][k])"
   ]
  },
  {
   "cell_type": "code",
   "execution_count": 5,
   "metadata": {},
   "outputs": [],
   "source": [
    "# shp = [len(thetaMap),len(thetaMap[0]),len(thetaMap[0][0])]\n",
    "# for i in range(shp[0]):\n",
    "#     for j in range(shp[1]):\n",
    "#         for k in range(shp[2]):\n",
    "#             print([X[i],Y[j],Z[k]])\n",
    "#             for thet in thetaMap[i][j][j]:\n",
    "#                 print(thet)\n",
    "#             print()"
   ]
  },
  {
   "cell_type": "code",
   "execution_count": 6,
   "metadata": {},
   "outputs": [],
   "source": [
    "# count=0\n",
    "# for i in range(validTheta.shape[0]):\n",
    "#     for j in range(validTheta.shape[1]):\n",
    "#         for k in range(validTheta.shape[2]):\n",
    "#             if(validTheta[i,j,k]==0):\n",
    "#                 print((X[i],Y[j],Z[k]));\n",
    "#                 count+=1\n",
    "                \n",
    "# print(\"unreachable points =\", count)"
   ]
  },
  {
   "cell_type": "code",
   "execution_count": 7,
   "metadata": {},
   "outputs": [],
   "source": [
    "# print(thetaMap[0][0][0])"
   ]
  },
  {
   "cell_type": "code",
   "execution_count": 8,
   "metadata": {},
   "outputs": [],
   "source": [
    "\n",
    "# tmstop = gmtime()"
   ]
  },
  {
   "cell_type": "code",
   "execution_count": 9,
   "metadata": {},
   "outputs": [],
   "source": [
    "# print(tmstop)"
   ]
  },
  {
   "cell_type": "code",
   "execution_count": 10,
   "metadata": {},
   "outputs": [],
   "source": [
    "# %store -r thetaMap validTheta"
   ]
  },
  {
   "cell_type": "code",
   "execution_count": 11,
   "metadata": {},
   "outputs": [],
   "source": [
    "# print(isValidTheta([[159],[120]]))"
   ]
  },
  {
   "cell_type": "code",
   "execution_count": 12,
   "metadata": {},
   "outputs": [],
   "source": [
    "# import matplotlib.pyplot as plt\n",
    "# plt.figure(figsize=(10,10))\n",
    "# plt.minorticks_on()\n",
    "# plt.grid(b=True, which='major', color='b', linestyle='-')\n",
    "# plt.grid(b=True, which='minor', color='g', linestyle='-')\n",
    "# plt.xlim(-10,550)\n",
    "# plt.ylim(400,1050)\n",
    "# plt.xlabel('X (mm)')\n",
    "# plt.ylabel('Z (mm)')\n",
    "# xs=[]\n",
    "# zs=[]\n",
    "# for i in range(X.size):\n",
    "#     for j in range(Y.size):\n",
    "#         for k in range(Z.size):\n",
    "#             if(validTheta[i,j,k]>0):\n",
    "#                 xs.append(X[i])\n",
    "#                 zs.append(Z[k])\n",
    "# for i in range(len(zs)):\n",
    "#     zs[i]=zs[i]-200\n",
    "# plt.scatter(xs,zs,s=5,color='gray')\n",
    "# plt.title(\"Dorna 1 Achievable XZ positions w/ 60cm Tool, No Offset\")\n",
    "# plt.savefig(\"XZ_SpatialFreedom60cmTool.png\")"
   ]
  },
  {
   "cell_type": "code",
   "execution_count": 13,
   "metadata": {},
   "outputs": [],
   "source": [
    "from math import sqrt\n",
    "goalRot = np.array([[sqrt(2)/2,0,sqrt(2)/2],[0,1,0],[-sqrt(2)/2,0,sqrt(2)/2]]).transpose()"
   ]
  },
  {
   "cell_type": "code",
   "execution_count": null,
   "metadata": {},
   "outputs": [
    {
     "name": "stdout",
     "output_type": "stream",
     "text": [
      "74.42579720928273 min until done\n",
      "valid= 731 invalid= 1276 tested 2007 out of 3224 [300, 0, 630]\n"
     ]
    }
   ],
   "source": [
    "ang = 3*np.pi/4\n",
    "validTheta45Offset, thetaMap45Offset = validThetas(X,Y,Z,S,M,goalRot,ang)"
   ]
  },
  {
   "cell_type": "code",
   "execution_count": null,
   "metadata": {},
   "outputs": [],
   "source": [
    "# print(thetaMap[i,j,k,:])\n",
    "# print(xs[933],zs[933])"
   ]
  },
  {
   "cell_type": "code",
   "execution_count": null,
   "metadata": {},
   "outputs": [],
   "source": [
    "%store validTheta45Offset\n",
    "# %store -r validTheta45Offset"
   ]
  },
  {
   "cell_type": "code",
   "execution_count": null,
   "metadata": {},
   "outputs": [],
   "source": [
    "validTheta=validTheta45Offset\n",
    "%store -r xs5Off zs5Off\n",
    "import matplotlib.pyplot as plt\n",
    "plt.figure(figsize=(10,10))\n",
    "plt.minorticks_on()\n",
    "plt.grid(b=True, which='major', color='black', linestyle='-')\n",
    "plt.grid(b=True, which='minor', color='gray', linestyle='-')\n",
    "plt.xlim(-10,550)\n",
    "plt.ylim(400,1050)\n",
    "plt.xlabel('X (mm)')\n",
    "plt.ylabel('Z (mm)')\n",
    "xs45=[]\n",
    "zs45=[]\n",
    "for i in range(X.size):\n",
    "    for j in range(Y.size):\n",
    "        for k in range(Z.size):\n",
    "            if(validTheta[i,j,k]>0):\n",
    "                xs45.append(X[i])\n",
    "                zs45.append(Z[k])\n",
    "for i in range(len(zs45)):\n",
    "    zs45[i]=zs45[i]\n",
    "plt.scatter(xs45,zs45,s=50,color='red')\n",
    "plt.scatter(xs5Off,zs5Off,s=20,color='blue')\n",
    "\n",
    "def split(l1,l2):\n",
    "    same=[]\n",
    "    foundSame = np.zeros((len(l1),len(l2)))\n",
    "    for i in range(len(ll)):\n",
    "        for j in range(len(l2)):\n",
    "            if(l1[i]==l2[j]):\n",
    "                same.append(l1[i])\n",
    "                foundSame[i,j]=1\n",
    "    return same\n",
    "\n",
    "plt.title(\"Dorna 1 Achievable XZ positions 45deg w/ 40cm Tool 5cm Offset\")\n",
    "plt.savefig(\"XZ_SpatialFreedom45degWith5cmOffset40cmTool.png\")"
   ]
  },
  {
   "cell_type": "code",
   "execution_count": null,
   "metadata": {},
   "outputs": [],
   "source": []
  }
 ],
 "metadata": {
  "kernelspec": {
   "display_name": "Python 3",
   "language": "python",
   "name": "python3"
  },
  "language_info": {
   "codemirror_mode": {
    "name": "ipython",
    "version": 3
   },
   "file_extension": ".py",
   "mimetype": "text/x-python",
   "name": "python",
   "nbconvert_exporter": "python",
   "pygments_lexer": "ipython3",
   "version": "3.7.3"
  }
 },
 "nbformat": 4,
 "nbformat_minor": 4
}
